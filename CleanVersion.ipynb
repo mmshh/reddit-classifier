{
 "cells": [
  {
   "cell_type": "code",
   "execution_count": null,
   "metadata": {},
   "outputs": [],
   "source": [
    "import logging\n",
    "import pandas as pd\n",
    "import numpy as np\n",
    "from numpy import random\n",
    "import gensim\n",
    "import nltk\n",
    "from sklearn.model_selection import train_test_split\n",
    "from sklearn.feature_extraction.text import CountVectorizer, TfidfVectorizer, TfidfTransformer\n",
    "from sklearn.metrics import accuracy_score, confusion_matrix\n",
    "import matplotlib.pyplot as plt\n",
    "from nltk.corpus import stopwords\n",
    "import nltk\n",
    "from nltk.tokenize import RegexpTokenizer\n",
    "from nltk.corpus import stopwords\n",
    "import operator\n",
    "from sklearn.linear_model import SGDClassifier\n",
    "import numpy as np\n",
    "from sklearn.model_selection import KFold, GridSearchCV\n",
    "from sklearn.svm import LinearSVC\n",
    "from sklearn.linear_model import LogisticRegression\n",
    "from sklearn.pipeline import Pipeline"
   ]
  },
  {
   "cell_type": "code",
   "execution_count": null,
   "metadata": {},
   "outputs": [],
   "source": [
    "from utils import convert_to_csv, read_train_data, read_test_data\n",
    "train_data = read_train_data()\n",
    "comment = train_data[0]\n",
    "result = train_data[1]\n",
    "test_data = read_test_data()"
   ]
  },
  {
   "cell_type": "code",
   "execution_count": null,
   "metadata": {},
   "outputs": [],
   "source": [
    "lab = []\n",
    "classes_name, classes_count = np.unique(result, return_counts=True)\n",
    "for i in range(len(result)):\n",
    "    lab.append(np.where(classes_name == result[i])[0][0])\n",
    "lab = np.asarray(lab)"
   ]
  },
  {
   "cell_type": "code",
   "execution_count": null,
   "metadata": {},
   "outputs": [],
   "source": [
    "def train_predict(x_t, y_t, x_test):\n",
    "    sgd = Pipeline([('vect', CountVectorizer()),\n",
    "                    ('tfidf', TfidfTransformer()),\n",
    "                    ('clf', SGDClassifier(loss='hinge', penalty='elasticnet',alpha=a, random_state=42,\n",
    "                            fit_intercept = False,  tol=0.00001, early_stopping=True, \n",
    "                                         n_iter_no_change=400, max_iter=20)),\n",
    "                   ])\n",
    "    sgd.fit(x_t, y_t)\n",
    "\n",
    "\n",
    "\n",
    "    y_pred = sgd.predict(x_test)\n",
    "\n",
    "    \n",
    "    return y_pred\n",
    "    #print(classification_report(y_test, y_pred,target_names=my_tags))"
   ]
  },
  {
   "cell_type": "code",
   "execution_count": null,
   "metadata": {},
   "outputs": [],
   "source": [
    "def train_predict2(to, c, x_t, y_t, x_test):\n",
    "    sgd = Pipeline([('vect', CountVectorizer()),\n",
    "                    ('tfidf', TfidfTransformer()),\n",
    "                    ('clf', LinearSVC(penalty='l2', loss='hinge', dual=True, tol=to, C=c, \n",
    "                                      multi_class='ovr', fit_intercept=False, intercept_scaling=1, \n",
    "                                      class_weight=w, verbose=0, random_state=None, max_iter=20)),\n",
    "                   ])\n",
    "    sgd.fit(x_t, y_t)\n",
    "\n",
    "\n",
    "\n",
    "    y_pred = sgd.predict(x_test)\n",
    "\n",
    "    \n",
    "    return y_pred"
   ]
  },
  {
   "cell_type": "code",
   "execution_count": null,
   "metadata": {},
   "outputs": [],
   "source": [
    "alpha = [ 1e-5]\n",
    "maxIt = [ 1]"
   ]
  },
  {
   "cell_type": "code",
   "execution_count": null,
   "metadata": {},
   "outputs": [],
   "source": [
    "result1 =  train_predict(comment, lab, test_data)\n",
    "result2 =  train_predict2(al, maxI, comment, lab, test_data)"
   ]
  },
  {
   "cell_type": "code",
   "execution_count": null,
   "metadata": {},
   "outputs": [],
   "source": [
    "toOutput = []\n",
    "for i in range(len(result1)):\n",
    "    toOutput.append({'Id': i, 'Category': classes_name[result1[i]]})\n",
    "convert_to_csv(toOutput)"
   ]
  },
  {
   "cell_type": "code",
   "execution_count": null,
   "metadata": {},
   "outputs": [],
   "source": [
    "toOutput = []\n",
    "for i in range(len(result1)):\n",
    "    toOutput.append({'Id': i, 'Category': classes_name[result2[i]]})\n",
    "convert_to_csv(toOutput)"
   ]
  }
 ],
 "metadata": {
  "kernelspec": {
   "display_name": "Python 3",
   "language": "python",
   "name": "python3"
  },
  "language_info": {
   "codemirror_mode": {
    "name": "ipython",
    "version": 3
   },
   "file_extension": ".py",
   "mimetype": "text/x-python",
   "name": "python",
   "nbconvert_exporter": "python",
   "pygments_lexer": "ipython3",
   "version": "3.7.5"
  }
 },
 "nbformat": 4,
 "nbformat_minor": 2
}
